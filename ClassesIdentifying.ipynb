{
 "cells": [
  {
   "cell_type": "code",
   "execution_count": null,
   "id": "every-guyana",
   "metadata": {
    "scrolled": true
   },
   "outputs": [],
   "source": [
    "pip list"
   ]
  },
  {
   "cell_type": "code",
   "execution_count": null,
   "id": "located-drive",
   "metadata": {},
   "outputs": [],
   "source": [
    "import pandas as pd\n",
    "import urllib.request as urlr\n",
    "import numpy as np\n",
    "import os"
   ]
  },
  {
   "cell_type": "code",
   "execution_count": null,
   "id": "sitting-pursuit",
   "metadata": {},
   "outputs": [],
   "source": [
    "\"\"\"\n",
    "Open chosen dataset from current directory. Otherwise download and open\n",
    "library - storage of dataset links\n",
    "filedata - dataset\n",
    "\"\"\"\n",
    "library ={1:'https://criteo-bucket.s3.eu-central-1.amazonaws.com/criteo.csv.gz',\n",
    "          2: None}\n",
    "urlfile = library[1]\n",
    "rfile = urlr.urlopen(urlfile)\n",
    "print('Server status code: ',[rfile.getcode()])\n",
    "file = os.path.basename(rfile.url)\n",
    "os.path.join(os.getcwd(), os.path.basename(rfile.url))\n",
    "if file not in os.listdir(os.getcwd()):\n",
    "    print('downloading...', end='')\n",
    "    urlr.urlretrieve(urlfile, os.path.join(os.getcwd(), os.path.basename(rfile.url)))\n",
    "    print('success')\n",
    "filedata = pd.read_csv(os.path.basename(rfile.url), nrows=10**4, compression='gzip', error_bad_lines=False)\n",
    "filedata"
   ]
  },
  {
   "cell_type": "code",
   "execution_count": null,
   "id": "personalized-camcorder",
   "metadata": {},
   "outputs": [],
   "source": [
    "\"\"\"\n",
    "Function 1 - bool2\n",
    "Conver np.array of 0 and 1 to int\n",
    "x = array\n",
    "temp = int\n",
    "\"\"\"\n",
    "def bool2(x):\n",
    "    temp = 0\n",
    "    for i, j in enumerate(np.array(x)):\n",
    "        temp += j<<i\n",
    "    return(temp)\n",
    "\"\"\"\n",
    "Function 2 - int2\n",
    "Conver int to np.array of 0 and 1\n",
    "x - int\n",
    "temp - tuple\n",
    "\"\"\"\n",
    "def int2(x):\n",
    "    temp = ()\n",
    "    b = x\n",
    "    while b != 0:\n",
    "        temp += (b%2,)\n",
    "        b = b//2\n",
    "    return(temp[::-1])"
   ]
  },
  {
   "cell_type": "code",
   "execution_count": null,
   "id": "unknown-transport",
   "metadata": {},
   "outputs": [],
   "source": [
    "\"\"\"\n",
    "Defining the feature of overlapping classes\n",
    "filedata - dataframe with 12 feature and 4 class affiliation\n",
    "mask - array of average feature of classes\n",
    "\"\"\"\n",
    "def basek(filedata):\n",
    "    mask = np.array([[0]*12]*16)\n",
    "    for column, line in filedata.iterrows():\n",
    "        index = bool2(np.array(line[-4:]).astype(int))\n",
    "        for f in range(len(line)-4):\n",
    "            mask[index, f] = (mask[index, f] + line[f])/2\n",
    "    \n",
    "    #for i in range(len(mask)-1, -1, -1):\n",
    "        #if mask[i].any() == np.array([0]*12).any():\n",
    "            #mask = np.delete( mask, i, 0)\n",
    "    return(mask)\n",
    "mask = basek(filedata)\n",
    "mask"
   ]
  },
  {
   "cell_type": "code",
   "execution_count": null,
   "id": "alternate-national",
   "metadata": {},
   "outputs": [],
   "source": [
    "\"\"\"\n",
    "Serch for candidats on a target class\n",
    "mask - list of classes feature\n",
    "data - list of ids and feature\n",
    "tcve - target (treatment, сonversion, visit, exposure) as tuple\"\"\"\n",
    "def algorithm(mask, data = None ,tcve = (1, 1, 0, 0)):\n",
    "    target = mask[bool2(tcve)]\n",
    "    return\n",
    "algorithm(mask, )"
   ]
  }
 ],
 "metadata": {
  "kernelspec": {
   "display_name": "Python 3",
   "language": "python",
   "name": "python3"
  },
  "language_info": {
   "codemirror_mode": {
    "name": "ipython",
    "version": 3
   },
   "file_extension": ".py",
   "mimetype": "text/x-python",
   "name": "python",
   "nbconvert_exporter": "python",
   "pygments_lexer": "ipython3",
   "version": "3.8.5"
  }
 },
 "nbformat": 4,
 "nbformat_minor": 5
}
