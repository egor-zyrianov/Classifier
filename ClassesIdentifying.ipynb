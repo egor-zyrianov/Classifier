{
 "cells": [
  {
   "cell_type": "code",
   "execution_count": null,
   "id": "every-guyana",
   "metadata": {
    "scrolled": true
   },
   "outputs": [],
   "source": [
    "pip list"
   ]
  },
  {
   "cell_type": "code",
   "execution_count": null,
   "id": "located-drive",
   "metadata": {},
   "outputs": [],
   "source": [
    "import pandas as pd\n",
    "import urllib.request as urlr\n",
    "import numpy as np\n",
    "import os"
   ]
  },
  {
   "cell_type": "code",
   "execution_count": null,
   "id": "sitting-pursuit",
   "metadata": {},
   "outputs": [],
   "source": [
    "%time\n",
    "\"\"\"\n",
    "Open chosen dataset from current directory. Otherwise download and open\n",
    "library - storage of dataset links\n",
    "filedata - dataset\n",
    "\"\"\"\n",
    "library ={1:'https://criteo-bucket.s3.eu-central-1.amazonaws.com/criteo.csv.gz',\n",
    "          2: None}\n",
    "urlfile = library[1]\n",
    "rfile = urlr.urlopen(urlfile)\n",
    "print('Server status code: ',[rfile.getcode()])\n",
    "file = os.path.basename(rfile.url)\n",
    "os.path.join(os.getcwd(), os.path.basename(rfile.url))\n",
    "if file not in os.listdir(os.getcwd()):\n",
    "    print('downloading...', end='')\n",
    "    urlr.urlretrieve(urlfile, os.path.join(os.getcwd(), os.path.basename(rfile.url)))\n",
    "    print('success')\n",
    "filedata = pd.read_csv(os.path.basename(rfile.url), nrows=10**4, compression='gzip', error_bad_lines=False)\n",
    "filedata"
   ]
  },
  {
   "cell_type": "code",
   "execution_count": null,
   "id": "monthly-remedy",
   "metadata": {},
   "outputs": [],
   "source": [
    "\"\"\"\n",
    "Sorting a column\n",
    "x - list\n",
    "indx - column to sort\n",
    "\"\"\"\n",
    "\n",
    "def Sort(x, indx):\n",
    "    coerc = x\n",
    "    n = len(x) - 1\n",
    "\n",
    "    for i in range(n):\n",
    "        if coerc[i][indx] > coerc[i+1][indx]:\n",
    "            temp = coerc[i]\n",
    "            coerc[i] = coerc[i+1]\n",
    "            coerc[i+1] = temp\n",
    "        if i == n-1 and n != 0:\n",
    "            coerc[:n] = Sort(coerc[:n], indx)\n",
    "    return(coerc)\n",
    "\"\"\"\n",
    "Disjointing statistic conteied in dictionary\n",
    "All - dictionary\n",
    "Coerc - storage for disjointed statistic\n",
    "\"\"\"\n",
    "def Processing(All):\n",
    "    Coerc = [None]*len(All)\n",
    "    \n",
    "    for i in range(len(Coerc)):\n",
    "        Coerc[i] = np.append(list(All.keys())[i], list(All.values())[i])\n",
    "\n",
    "    for i in range(len(Coerc)):\n",
    "        Coerc[i][4:16] /= Coerc[i][40]\n",
    "\n",
    "    for j in range(4, 12):\n",
    "        Coerc = Sort(Coerc, j)\n",
    "        for i in range(len(Coerc)-1):\n",
    "            if Coerc[i][j+24] > Coerc[i+1][j+12]:\n",
    "                contest = Coerc[i][j+24] - Coerc[i+1][j+12]\n",
    "                balance = contest * Coerc[i][40]/(Coerc[i][40]+Coerc[i+1][40])\n",
    "                Coerc[i+1][j+12] -= balance\n",
    "                Coerc[i][j+24] -= contest - balance\n",
    "    return(Coerc)"
   ]
  },
  {
   "cell_type": "code",
   "execution_count": null,
   "id": "advanced-austin",
   "metadata": {},
   "outputs": [],
   "source": [
    "%%time\n",
    "\"\"\"\n",
    "Writing a features of class in dictionary\n",
    "\"\"\"\n",
    "All = {}\n",
    "\n",
    "for i, data in filedata.iterrows():\n",
    "    index = tuple(data.values[12:])\n",
    "    data_values = data.values[:12]\n",
    "    if index in All:\n",
    "        All[index][12:24] = np.minimum(All[index][12:24], data_values)\n",
    "        All[index][24:36] = np.maximum(All[index][24:36], data_values)\n",
    "        All[index][36]   += 1\n",
    "        All[index][00:12] += data_values\n",
    "    else:\n",
    "        All[index]  = np.append([data_values]*3, [1])\n",
    "\n",
    "print(Processing(All), sep='\\n')"
   ]
  },
  {
   "cell_type": "code",
   "execution_count": null,
   "id": "removable-assumption",
   "metadata": {},
   "outputs": [],
   "source": []
  }
 ],
 "metadata": {
  "kernelspec": {
   "display_name": "Python 3",
   "language": "python",
   "name": "python3"
  },
  "language_info": {
   "codemirror_mode": {
    "name": "ipython",
    "version": 3
   },
   "file_extension": ".py",
   "mimetype": "text/x-python",
   "name": "python",
   "nbconvert_exporter": "python",
   "pygments_lexer": "ipython3",
   "version": "3.8.5"
  }
 },
 "nbformat": 4,
 "nbformat_minor": 5
}
